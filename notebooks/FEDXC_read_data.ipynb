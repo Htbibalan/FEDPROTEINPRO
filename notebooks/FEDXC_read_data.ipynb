{
 "cells": [
  {
   "cell_type": "code",
   "execution_count": 4,
   "id": "59757b74-68be-4f8c-ad4e-73b3d8adf9c5",
   "metadata": {},
   "outputs": [],
   "source": [
    "from datetime import datetime, time\n",
    "import pandas as pd\n",
    "import numpy as np\n",
    "import trompy as tp"
   ]
  },
  {
   "cell_type": "code",
   "execution_count": 2,
   "id": "e5e2c699-427e-4329-966d-d3c25f62a874",
   "metadata": {},
   "outputs": [],
   "source": [
    "metafile = \"../METAFILE FEDXC DATA SHEETS.xls\""
   ]
  },
  {
   "cell_type": "code",
   "execution_count": 3,
   "id": "1ff231d6-a2de-4119-aab3-6c8454489be2",
   "metadata": {},
   "outputs": [
    {
     "name": "stdout",
     "output_type": "stream",
     "text": [
      "File is excel file. Making csv metafile first\n"
     ]
    }
   ],
   "source": [
    "metafilerows , metafileheader = tp.metafilereader(metafile, sheetname=\"METAFILE\")"
   ]
  },
  {
   "cell_type": "code",
   "execution_count": 4,
   "id": "6ae797df-dcd8-4b96-9914-84bdc39d0191",
   "metadata": {},
   "outputs": [],
   "source": [
    "def convert_to_datetime(timestamp):\n",
    "    try:\n",
    "        dt = datetime.strptime(timestamp, '%m/%d/%Y %H:%M:%S')\n",
    "    except:\n",
    "        dt = datetime.strptime(timestamp, '%Y-%m-%d %H:%M:%S')\n",
    "\n",
    "    return dt\n",
    "    \n",
    "def get_FEDevents_from_df(df, eventname=\"Pellet\"):\n",
    "\n",
    "    df_events = df[df[\"Event\"] == eventname].iloc[:,0]\n",
    "\n",
    "    df_ts = df_events.apply(lambda x: convert_to_datetime(x))\n",
    "    timestamps = list(df_ts)\n",
    "\n",
    "    t0 = timestamps[0]\n",
    "    refpoint = datetime.combine(t0.date(), time(7,0))\n",
    "    \n",
    "    pellettimes = []\n",
    "    for t in timestamps:\n",
    "        Deltat = t-refpoint\n",
    "        Deltatinseconds = Deltat.total_seconds()\n",
    "        Deltatinhours = Deltatinseconds/3600\n",
    "        pellettimes.append(Deltatinhours)\n",
    "\n",
    "    return pellettimes"
   ]
  },
  {
   "cell_type": "code",
   "execution_count": 5,
   "id": "ae987ab1-fb30-49f6-973f-812634a35148",
   "metadata": {},
   "outputs": [],
   "source": [
    "mice={}\n",
    "for row in metafilerows:\n",
    "    mouse= row[1]\n",
    "    epoch=row[6]\n",
    "    filename= \"../data/\"+ row[0]\n",
    "    if not mouse in mice.keys():\n",
    "        mice [mouse] ={}\n",
    "    mice [mouse] [epoch] = {}\n",
    "    df=pd.read_csv(filename)\n",
    "    mice [mouse] [epoch] [\"pellet_times\"] = get_FEDevents_from_df(df)\n",
    "    \n",
    "    \n"
   ]
  },
  {
   "cell_type": "code",
   "execution_count": 6,
   "id": "b4cca3e7-866a-4168-962a-2a5a9df911e8",
   "metadata": {
    "tags": []
   },
   "outputs": [
    {
     "data": {
      "text/plain": [
       "\u001b[1;31mType:\u001b[0m        dict\n",
       "\u001b[1;31mString form:\u001b[0m {'FEDXC01': {'E1': {'pellet_times': [1.9544444444444444, 2.005, 2.0388888888888888, 2.05027777777 <...> 333333, 168.06666666666666, 168.07, 168.11583333333334, 168.12166666666667, 168.1288888888889]}}}\n",
       "\u001b[1;31mLength:\u001b[0m      12\n",
       "\u001b[1;31mDocstring:\u001b[0m  \n",
       "dict() -> new empty dictionary\n",
       "dict(mapping) -> new dictionary initialized from a mapping object's\n",
       "    (key, value) pairs\n",
       "dict(iterable) -> new dictionary initialized as if via:\n",
       "    d = {}\n",
       "    for k, v in iterable:\n",
       "        d[k] = v\n",
       "dict(**kwargs) -> new dictionary initialized with the name=value pairs\n",
       "    in the keyword argument list.  For example:  dict(one=1, two=2)\n"
      ]
     },
     "metadata": {},
     "output_type": "display_data"
    }
   ],
   "source": [
    "mice?"
   ]
  },
  {
   "cell_type": "code",
   "execution_count": null,
   "id": "77f7188b-85b5-4016-a943-ad4937bd3c8e",
   "metadata": {},
   "outputs": [],
   "source": [
    "\n"
   ]
  },
  {
   "cell_type": "code",
   "execution_count": 7,
   "id": "9210ec36-3b6a-4153-b40a-e3160ce8a6af",
   "metadata": {},
   "outputs": [],
   "source": [
    "mice={}\n",
    "for row in metafilerows:\n",
    "    mouse= row[1]\n",
    "    epoch=row[6]\n",
    "    filename= \"../data/\"+ row[0]\n",
    "    if not mouse in mice.keys():\n",
    "        mice [mouse] ={}\n",
    "    mice [mouse] [epoch] = {}\n",
    "    df=pd.read_csv(filename)\n",
    "    mice [mouse] [epoch] [\"pr_times\"] = get_FEDevents_from_df(df) "
   ]
  },
  {
   "cell_type": "code",
   "execution_count": 225,
   "id": "39f00d4f-6af8-4cbc-8cb4-4f6593bb999d",
   "metadata": {},
   "outputs": [
    {
     "data": {
      "text/plain": [
       "\u001b[1;31mType:\u001b[0m        dict\n",
       "\u001b[1;31mString form:\u001b[0m {'FEDXC01': {'epoch': 'E1', 'order': 2.0, 'diet': 'NR'}, 'FEDXC02': {'epoch': 'E1', 'order': 2.0, <...> poch': 'E1', 'order': 1.0, 'diet': 'NR'}, 'FEDXC12': {'epoch': 'E1', 'order': 1.0, 'diet': 'NR'}}\n",
       "\u001b[1;31mLength:\u001b[0m      12\n",
       "\u001b[1;31mDocstring:\u001b[0m  \n",
       "dict() -> new empty dictionary\n",
       "dict(mapping) -> new dictionary initialized from a mapping object's\n",
       "    (key, value) pairs\n",
       "dict(iterable) -> new dictionary initialized as if via:\n",
       "    d = {}\n",
       "    for k, v in iterable:\n",
       "        d[k] = v\n",
       "dict(**kwargs) -> new dictionary initialized with the name=value pairs\n",
       "    in the keyword argument list.  For example:  dict(one=1, two=2)\n"
      ]
     },
     "metadata": {},
     "output_type": "display_data"
    }
   ],
   "source": [
    "mice?"
   ]
  },
  {
   "cell_type": "code",
   "execution_count": 227,
   "id": "f7e30198-c3e6-40a6-8da3-f5a6693cfc0b",
   "metadata": {},
   "outputs": [
    {
     "data": {
      "text/plain": [
       "dict_keys(['E1', 'E2', 'E3', 'E4'])"
      ]
     },
     "execution_count": 227,
     "metadata": {},
     "output_type": "execute_result"
    }
   ],
   "source": [
    "mice[\"FEDXC01\"].keys()"
   ]
  },
  {
   "cell_type": "code",
   "execution_count": 228,
   "id": "a6c6f3b1-4247-4a9a-a43e-9f13e446cddd",
   "metadata": {},
   "outputs": [
    {
     "data": {
      "text/plain": [
       "dict_keys(['E1', 'E2', 'E3', 'E4'])"
      ]
     },
     "execution_count": 228,
     "metadata": {},
     "output_type": "execute_result"
    }
   ],
   "source": [
    "mice[\"FEDXC01\"].keys()"
   ]
  },
  {
   "cell_type": "code",
   "execution_count": 229,
   "id": "c6227bef-2011-4036-8047-1755cd05cdf5",
   "metadata": {},
   "outputs": [
    {
     "data": {
      "text/plain": [
       "dict_keys(['E1', 'E2', 'E3', 'E4'])"
      ]
     },
     "execution_count": 229,
     "metadata": {},
     "output_type": "execute_result"
    }
   ],
   "source": [
    "mice[\"FEDXC07\"].keys()"
   ]
  },
  {
   "cell_type": "code",
   "execution_count": 230,
   "id": "b17546f8-e923-45bd-93f2-6f22297b6106",
   "metadata": {
    "tags": []
   },
   "outputs": [
    {
     "data": {
      "text/plain": [
       "dict_keys(['FEDXC01', 'FEDXC02', 'FEDXC03', 'FEDXC04', 'FEDXC05', 'FEDXC06', 'FEDXC07', 'FEDXC08', 'FEDXC09', 'FEDXC10', 'FEDXC11', 'FEDXC12'])"
      ]
     },
     "execution_count": 230,
     "metadata": {},
     "output_type": "execute_result"
    }
   ],
   "source": [
    "mice.keys()"
   ]
  },
  {
   "cell_type": "code",
   "execution_count": null,
   "id": "684c7459-3cd7-4e4a-9dd2-6d8b5e8f61b1",
   "metadata": {},
   "outputs": [],
   "source": []
  },
  {
   "cell_type": "code",
   "execution_count": null,
   "id": "56cf2e63-c10f-47a1-9208-8175baa6b183",
   "metadata": {},
   "outputs": [],
   "source": []
  }
 ],
 "metadata": {
  "kernelspec": {
   "display_name": "Python 3 (ipykernel)",
   "language": "python",
   "name": "python3"
  },
  "language_info": {
   "codemirror_mode": {
    "name": "ipython",
    "version": 3
   },
   "file_extension": ".py",
   "mimetype": "text/x-python",
   "name": "python",
   "nbconvert_exporter": "python",
   "pygments_lexer": "ipython3",
   "version": "3.9.13"
  }
 },
 "nbformat": 4,
 "nbformat_minor": 5
}
